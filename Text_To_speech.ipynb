{
  "nbformat": 4,
  "nbformat_minor": 0,
  "metadata": {
    "colab": {
      "name": "Text_To_speech.ipynb",
      "provenance": [],
      "collapsed_sections": [],
      "authorship_tag": "ABX9TyNERt5NLJjAmFfUviIfOusD",
      "include_colab_link": true
    },
    "kernelspec": {
      "name": "python3",
      "display_name": "Python 3"
    }
  },
  "cells": [
    {
      "cell_type": "markdown",
      "metadata": {
        "id": "view-in-github",
        "colab_type": "text"
      },
      "source": [
        "<a href=\"https://colab.research.google.com/github/jainshubham46/python-project-project/blob/master/Text_To_speech.ipynb\" target=\"_parent\"><img src=\"https://colab.research.google.com/assets/colab-badge.svg\" alt=\"Open In Colab\"/></a>"
      ]
    },
    {
      "cell_type": "code",
      "metadata": {
        "id": "q1Z5rMz4nQuH",
        "colab_type": "code",
        "colab": {}
      },
      "source": [
        "!pip install gTTS\n",
        "from gtts import gTTS \n",
        "import os\n",
        "\n"
      ],
      "execution_count": null,
      "outputs": []
    },
    {
      "cell_type": "code",
      "metadata": {
        "id": "omoXNor5mouB",
        "colab_type": "code",
        "colab": {
          "base_uri": "https://localhost:8080/",
          "height": 34
        },
        "outputId": "bc2e09dc-31d0-419e-b98a-42d0d95f1723"
      },
      "source": [
        "\n",
        "\n",
        "fh= open('about_myself.txt','r')\n",
        "\n",
        "mytext=fh.read().replace('\\n' ,\" \")\n",
        "\n",
        "language ='en'\n",
        "\n",
        "output=gTTS(text= mytext , lang=language,slow=False)\n",
        "\n",
        "output.save('output.mp3')\n",
        "\n",
        "fh.close()\n",
        "\n",
        "os.system(\"start output.mp3\")"
      ],
      "execution_count": 16,
      "outputs": [
        {
          "output_type": "execute_result",
          "data": {
            "text/plain": [
              "32512"
            ]
          },
          "metadata": {
            "tags": []
          },
          "execution_count": 16
        }
      ]
    }
  ]
}