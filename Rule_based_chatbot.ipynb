{
  "nbformat": 4,
  "nbformat_minor": 0,
  "metadata": {
    "colab": {
      "name": "rule_based_chatbot.ipynb",
      "provenance": [],
      "authorship_tag": "ABX9TyMTe78TjsqjUHd04tJOQ0bV",
      "include_colab_link": true
    },
    "kernelspec": {
      "name": "python3",
      "display_name": "Python 3"
    }
  },
  "cells": [
    {
      "cell_type": "markdown",
      "metadata": {
        "id": "view-in-github",
        "colab_type": "text"
      },
      "source": [
        "<a href=\"https://colab.research.google.com/github/jainshubham46/python-project-project/blob/master/Rule_based_chatbot.ipynb\" target=\"_parent\"><img src=\"https://colab.research.google.com/assets/colab-badge.svg\" alt=\"Open In Colab\"/></a>"
      ]
    },
    {
      "cell_type": "code",
      "metadata": {
        "id": "YztzlnNVmV7Q",
        "colab_type": "code",
        "colab": {}
      },
      "source": [
        "pip install tensorflow \n"
      ],
      "execution_count": null,
      "outputs": []
    },
    {
      "cell_type": "code",
      "metadata": {
        "colab_type": "code",
        "id": "gzTDbhM7fmmZ",
        "colab": {}
      },
      "source": [
        "!pip install chatterbot_corpus\n"
      ],
      "execution_count": null,
      "outputs": []
    },
    {
      "cell_type": "code",
      "metadata": {
        "colab_type": "code",
        "id": "WROuipJOgA4S",
        "colab": {}
      },
      "source": [
        "!pip install --upgrade chatterbot_corpus\n",
        "!pip install --upgrade chatterbot"
      ],
      "execution_count": null,
      "outputs": []
    },
    {
      "cell_type": "code",
      "metadata": {
        "id": "sZuTOC-gmsoM",
        "colab_type": "code",
        "colab": {}
      },
      "source": [
        "pip install nltk"
      ],
      "execution_count": null,
      "outputs": []
    },
    {
      "cell_type": "code",
      "metadata": {
        "id": "ofIfIdqbnHJa",
        "colab_type": "code",
        "colab": {}
      },
      "source": [
        "import nltk"
      ],
      "execution_count": 29,
      "outputs": []
    },
    {
      "cell_type": "code",
      "metadata": {
        "id": "FCBfLD8tnOjo",
        "colab_type": "code",
        "colab": {}
      },
      "source": [
        "nltk.download('punkt')\n",
        "nltk.download('wordnet')"
      ],
      "execution_count": null,
      "outputs": []
    },
    {
      "cell_type": "code",
      "metadata": {
        "id": "1ewrn2ZFnac7",
        "colab_type": "code",
        "colab": {}
      },
      "source": [
        "from nltk.tokenize import sent_tokenize"
      ],
      "execution_count": 31,
      "outputs": []
    },
    {
      "cell_type": "code",
      "metadata": {
        "id": "vYmNVHginwTi",
        "colab_type": "code",
        "colab": {}
      },
      "source": [
        "from nltk.tokenize import word_tokenize"
      ],
      "execution_count": 32,
      "outputs": []
    },
    {
      "cell_type": "code",
      "metadata": {
        "id": "O0LLDDVYoEEa",
        "colab_type": "code",
        "colab": {}
      },
      "source": [
        "text= \" hii i am shubham jain i am a good coder\""
      ],
      "execution_count": 33,
      "outputs": []
    },
    {
      "cell_type": "code",
      "metadata": {
        "id": "f9Zq5Qo0oYnK",
        "colab_type": "code",
        "colab": {}
      },
      "source": [
        "print(sent_tokenize(text))"
      ],
      "execution_count": null,
      "outputs": []
    },
    {
      "cell_type": "code",
      "metadata": {
        "id": "o74RZMJOo5Gb",
        "colab_type": "code",
        "colab": {
          "base_uri": "https://localhost:8080/",
          "height": 34
        },
        "outputId": "f6d08826-56e6-403f-c5a2-448bffeb8327"
      },
      "source": [
        "print(word_tokenize(text))"
      ],
      "execution_count": 35,
      "outputs": [
        {
          "output_type": "stream",
          "text": [
            "['hii', 'i', 'am', 'shubham', 'jain', 'i', 'am', 'a', 'good', 'coder']\n"
          ],
          "name": "stdout"
        }
      ]
    },
    {
      "cell_type": "code",
      "metadata": {
        "id": "2texbGBbrRDq",
        "colab_type": "code",
        "colab": {}
      },
      "source": [
        "from nltk.stem import WordNetLemmatizer"
      ],
      "execution_count": 36,
      "outputs": []
    },
    {
      "cell_type": "code",
      "metadata": {
        "colab_type": "code",
        "id": "HKY2hYuCrwVp",
        "colab": {}
      },
      "source": [
        "from nltk.stem import WordNetLemmatizer\n",
        "lemmatized_words = WordNetLemmatizer()\n",
        "print(lemmatized_words)"
      ],
      "execution_count": null,
      "outputs": []
    },
    {
      "cell_type": "code",
      "metadata": {
        "colab_type": "code",
        "id": "udKqTpyosVpS",
        "colab": {}
      },
      "source": [
        "\n",
        "print(\"corpara :\", lemmatized_words.lemmatize(\"corpora\"))\n",
        "print(\"better :\", lemmatized_words.lemmatize(\"better\",pos=\"a\"))"
      ],
      "execution_count": null,
      "outputs": []
    },
    {
      "cell_type": "code",
      "metadata": {
        "id": "iOGS3Y91rRjY",
        "colab_type": "code",
        "colab": {}
      },
      "source": [
        "from nltk.stem import PorterStemmer\n",
        "from nltk.tokenize import word_tokenize\n",
        "ps =PorterStemmer()\n",
        "\n",
        "words=[\"program\",\"programing\",\"programers\",\"programs\"]\n",
        "\n",
        "for w in words:\n",
        "  print(w, \":\", ps.stem(w))\n",
        "  \n",
        "demo = \"goods\"\n",
        "ps.stem(demo)"
      ],
      "execution_count": null,
      "outputs": []
    },
    {
      "cell_type": "code",
      "metadata": {
        "id": "jBXpYofX2lhJ",
        "colab_type": "code",
        "colab": {}
      },
      "source": [
        "from chatterbot import ChatBot"
      ],
      "execution_count": 40,
      "outputs": []
    },
    {
      "cell_type": "code",
      "metadata": {
        "id": "MU3-l_K14eIC",
        "colab_type": "code",
        "colab": {}
      },
      "source": [
        "from chatterbot.trainers import ListTrainer"
      ],
      "execution_count": 41,
      "outputs": []
    },
    {
      "cell_type": "code",
      "metadata": {
        "id": "AYpAWfoM5J4u",
        "colab_type": "code",
        "colab": {}
      },
      "source": [
        "your_bot=ChatBot(name=\"myBot\", read_only=True,logic_adopters=['chatterbot.logic.MathmaticalEvaluation','chatterbot.logic.BestMatch'])"
      ],
      "execution_count": null,
      "outputs": []
    },
    {
      "cell_type": "code",
      "metadata": {
        "id": "RoJcEl9l5KL2",
        "colab_type": "code",
        "colab": {}
      },
      "source": [
        "greeting=['hi','hello','how ','are','u?','i fine','hey how  may i serve for you']\n",
        "help=['datascience','Data science is an inter-disciplinary field that uses scientific methods, processes, algorithms and systems to extract knowledge and insights from many structural and unstructured data. Data science is related to data mining, machine learning and big data.']\n",
        "Aiage=['ai is old or new lanuage','ai is old language']\n",
        "brith=['my b.o.d','27march1998']"
      ],
      "execution_count": 43,
      "outputs": []
    },
    {
      "cell_type": "code",
      "metadata": {
        "id": "smvY6G0G5KPW",
        "colab_type": "code",
        "colab": {}
      },
      "source": [
        "train_yourbot=ListTrainer(your_bot)"
      ],
      "execution_count": 44,
      "outputs": []
    },
    {
      "cell_type": "code",
      "metadata": {
        "id": "Ced1Skhu5KSe",
        "colab_type": "code",
        "colab": {}
      },
      "source": [
        "for item in (greeting,help,Aiage,brith):\n",
        "  train_yourbot.train(item)"
      ],
      "execution_count": null,
      "outputs": []
    },
    {
      "cell_type": "code",
      "metadata": {
        "id": "TM7W5aUsHqsI",
        "colab_type": "code",
        "colab": {
          "base_uri": "https://localhost:8080/",
          "height": 34
        },
        "outputId": "151c037f-527e-41c9-d5e6-09f9b2aefa57"
      },
      "source": [
        "print(your_bot.get_response(\"my b.o.d\"))"
      ],
      "execution_count": 46,
      "outputs": [
        {
          "output_type": "stream",
          "text": [
            "27march1998\n"
          ],
          "name": "stdout"
        }
      ]
    },
    {
      "cell_type": "code",
      "metadata": {
        "id": "8XPnVunFHqwM",
        "colab_type": "code",
        "colab": {
          "base_uri": "https://localhost:8080/",
          "height": 34
        },
        "outputId": "d6a4b7e6-05ae-4355-b389-e860e0a55054"
      },
      "source": [
        "print(your_bot.get_response(\"hi\"))"
      ],
      "execution_count": 47,
      "outputs": [
        {
          "output_type": "stream",
          "text": [
            "hello\n"
          ],
          "name": "stdout"
        }
      ]
    },
    {
      "cell_type": "code",
      "metadata": {
        "id": "J0GnXh9VHqqO",
        "colab_type": "code",
        "colab": {
          "base_uri": "https://localhost:8080/",
          "height": 54
        },
        "outputId": "47b19605-6c8e-47dd-a149-7b2a631de6e5"
      },
      "source": [
        "print(your_bot.get_response(\"datascience\"))"
      ],
      "execution_count": 53,
      "outputs": [
        {
          "output_type": "stream",
          "text": [
            "Data science is an inter-disciplinary field that uses scientific methods, processes, algorithms and systems to extract knowledge and insights from many structural and unstructured data. Data science is related to data mining, machine learning and big data.\n"
          ],
          "name": "stdout"
        }
      ]
    }
  ]
}